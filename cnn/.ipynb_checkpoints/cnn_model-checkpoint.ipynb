{
 "cells": [
  {
   "cell_type": "code",
   "execution_count": 1,
   "id": "1c3dc012",
   "metadata": {},
   "outputs": [],
   "source": [
    "import tensorflow as tf\n",
    "import matplotlib.pyplot as plt\n",
    "import numpy as np\n",
    "import cv2\n",
    "from tensorflow.keras.models import Sequential\n",
    "from tensorflow.keras.layers import Dense,Activation,Flatten,Conv2D,MaxPooling2D"
   ]
  },
  {
   "cell_type": "code",
   "execution_count": 2,
   "id": "3787ddb2",
   "metadata": {},
   "outputs": [],
   "source": [
    "mnist=tf.keras.datasets.mnist"
   ]
  },
  {
   "cell_type": "code",
   "execution_count": 3,
   "id": "b9928a8d",
   "metadata": {},
   "outputs": [],
   "source": [
    "(x_train,y_train),(x_test,y_test)=mnist.load_data()"
   ]
  },
  {
   "cell_type": "code",
   "execution_count": 4,
   "id": "34890c86",
   "metadata": {},
   "outputs": [
    {
     "data": {
      "text/plain": [
       "(60000, 28, 28)"
      ]
     },
     "execution_count": 4,
     "metadata": {},
     "output_type": "execute_result"
    }
   ],
   "source": [
    "x_train.shape"
   ]
  },
  {
   "cell_type": "code",
   "execution_count": 5,
   "id": "8f4bc5a3",
   "metadata": {},
   "outputs": [
    {
     "data": {
      "text/plain": [
       "(60000,)"
      ]
     },
     "execution_count": 5,
     "metadata": {},
     "output_type": "execute_result"
    }
   ],
   "source": [
    "y_train.shape"
   ]
  },
  {
   "cell_type": "code",
   "execution_count": 6,
   "id": "e6864137",
   "metadata": {},
   "outputs": [
    {
     "data": {
      "text/plain": [
       "(10000, 28, 28)"
      ]
     },
     "execution_count": 6,
     "metadata": {},
     "output_type": "execute_result"
    }
   ],
   "source": [
    "x_test.shape"
   ]
  },
  {
   "cell_type": "code",
   "execution_count": 7,
   "id": "2b7e8139",
   "metadata": {},
   "outputs": [
    {
     "data": {
      "text/plain": [
       "(10000,)"
      ]
     },
     "execution_count": 7,
     "metadata": {},
     "output_type": "execute_result"
    }
   ],
   "source": [
    "y_test.shape"
   ]
  },
  {
   "cell_type": "code",
   "execution_count": 8,
   "id": "a13100ff",
   "metadata": {},
   "outputs": [
    {
     "data": {
      "image/png": "[encoded data removed]",
      "text/plain": [
       "<Figure size 640x480 with 1 Axes>"
      ]
     },
     "metadata": {},
     "output_type": "display_data"
    }
   ],
   "source": [
    "plt.imshow(x_train[12])\n",
    "plt.show()"
   ]
  },
  {
   "cell_type": "code",
   "execution_count": 9,
   "id": "161f9c3a",
   "metadata": {},
   "outputs": [
    {
     "data": {
      "image/png": "[encoded data removed]",
      "text/plain": [
       "<Figure size 640x480 with 1 Axes>"
      ]
     },
     "metadata": {},
     "output_type": "display_data"
    }
   ],
   "source": [
    "plt.imshow(x_train[12],cmap=plt.cm.binary)\n",
    "plt.show()"
   ]
  },
  {
   "cell_type": "code",
   "execution_count": 10,
   "id": "496e799b",
   "metadata": {},
   "outputs": [
    {
     "name": "stdout",
     "output_type": "stream",
     "text": [
      "[[  0   0   0   0   0   0   0   0   0   0   0   0   0   0   0   0   0   0\n",
      "    0   0   0   0   0   0   0   0   0   0]\n",
      " [  0   0   0   0   0   0   0   0   0   0   0   0   0   0   0   0   0   0\n",
      "    0   0   0   0   0   0   0   0   0   0]\n",
      " [  0   0   0   0   0   0   0   0   0   0   0   0   0   0   0   0   0   0\n",
      "    0   0   0   0   0   0   0   0   0   0]\n",
      " [  0   0   0   0   0   0   0   0   0   0   0   0   0   0   0   0   0   0\n",
      "    0   0   0   0   0   0   0   0   0   0]\n",
      " [  0   0   0   0   0   0   0   0   0   0   0   0   0   0   0   0   0   0\n",
      "    0   0   0   0   0   0   0   0   0   0]\n",
      " [  0   0   0  12  99  91 142 155 246 182 155 155 155 155 131  52   0   0\n",
      "    0   0   0   0   0   0   0   0   0   0]\n",
      " [  0   0   0 138 254 254 254 254 254 254 254 254 254 254 254 252 210 122\n",
      "   33   0   0   0   0   0   0   0   0   0]\n",
      " [  0   0   0 220 254 254 254 235 189 189 189 189 150 189 205 254 254 254\n",
      "   75   0   0   0   0   0   0   0   0   0]\n",
      " [  0   0   0  35  74  35  35  25   0   0   0   0   0   0  13 224 254 254\n",
      "  153   0   0   0   0   0   0   0   0   0]\n",
      " [  0   0   0   0   0   0   0   0   0   0   0   0   0   0  90 254 254 247\n",
      "   53   0   0   0   0   0   0   0   0   0]\n",
      " [  0   0   0   0   0   0   0   0   0   0   0   0   6 152 246 254 254  49\n",
      "    0   0   0   0   0   0   0   0   0   0]\n",
      " [  0   0   0   0   0   0   0   0   0   0   0  66 158 254 254 249 103   8\n",
      "    0   0   0   0   0   0   0   0   0   0]\n",
      " [  0   0   0   0   0   0   0   0   0   0  54 251 254 254 254 248  74   5\n",
      "    0   0   0   0   0   0   0   0   0   0]\n",
      " [  0   0   0   0   0   0   0   0   0   0 140 254 254 254 254 254 254 202\n",
      "  125  45   0   0   0   0   0   0   0   0]\n",
      " [  0   0   0   0   0   0   0   0   0   0  58 181 234 254 254 254 254 254\n",
      "  254 252 140  22   0   0   0   0   0   0]\n",
      " [  0   0   0   0   0   0   0   0   0   0   0   0  30  50  73 155 253 254\n",
      "  254 254 254 191   2   0   0   0   0   0]\n",
      " [  0   0   0   0   0   0   0   0   0   0   0   0   0   0   0   0  91 200\n",
      "  254 254 254 254 118   0   0   0   0   0]\n",
      " [  0   0   0   0   0   0   0   0   0   0   0   0   0   0   0   0   0   4\n",
      "  192 254 254 254 154   0   0   0   0   0]\n",
      " [  0   0   0   0   0   0   0   0   0   0   0   0   0   0   0   0   0   0\n",
      "  141 254 254 254 116   0   0   0   0   0]\n",
      " [  0   0   0   0   0   0   0   0  25 126  86   0   0   0   0   0   0   3\n",
      "  188 254 254 250  61   0   0   0   0   0]\n",
      " [  0   0   0   0   0   0   0  24 209 254  15   0   0   0   0   0  23 137\n",
      "  254 254 254 209   0   0   0   0   0   0]\n",
      " [  0   0   0   0   0   0   0 168 254 254  48   9   0   0   9 127 241 254\n",
      "  254 255 242  63   0   0   0   0   0   0]\n",
      " [  0   0   0   0   0   0   0 101 254 254 254 205 190 190 205 254 254 254\n",
      "  254 242  67   0   0   0   0   0   0   0]\n",
      " [  0   0   0   0   0   0   0  33 166 254 254 254 254 254 254 254 254 250\n",
      "  138  55   0   0   0   0   0   0   0   0]\n",
      " [  0   0   0   0   0   0   0   0   7  88 154 116 194 194 154 154  88  49\n",
      "    0   0   0   0   0   0   0   0   0   0]\n",
      " [  0   0   0   0   0   0   0   0   0   0   0   0   0   0   0   0   0   0\n",
      "    0   0   0   0   0   0   0   0   0   0]\n",
      " [  0   0   0   0   0   0   0   0   0   0   0   0   0   0   0   0   0   0\n",
      "    0   0   0   0   0   0   0   0   0   0]\n",
      " [  0   0   0   0   0   0   0   0   0   0   0   0   0   0   0   0   0   0\n",
      "    0   0   0   0   0   0   0   0   0   0]]\n"
     ]
    }
   ],
   "source": [
    "print(x_train[12])"
   ]
  },
  {
   "cell_type": "code",
   "execution_count": 11,
   "id": "768d9be5",
   "metadata": {},
   "outputs": [
    {
     "data": {
      "text/plain": [
       "<matplotlib.image.AxesImage at 0x18b30f845e0>"
      ]
     },
     "execution_count": 11,
     "metadata": {},
     "output_type": "execute_result"
    },
    {
     "data": {
      "image/png": "[encoded data removed]",
      "text/plain": [
       "<Figure size 640x480 with 1 Axes>"
      ]
     },
     "metadata": {},
     "output_type": "display_data"
    }
   ],
   "source": [
    "x_train=x_train/255\n",
    "x_test=x_test/255\n",
    "plt.imshow(x_train[12],cmap=plt.cm.binary)"
   ]
  },
  {
   "cell_type": "code",
   "execution_count": 12,
   "id": "30a4e61a",
   "metadata": {},
   "outputs": [
    {
     "name": "stdout",
     "output_type": "stream",
     "text": [
      "[[0.         0.         0.         0.         0.         0.\n",
      "  0.         0.         0.         0.         0.         0.\n",
      "  0.         0.         0.         0.         0.         0.\n",
      "  0.         0.         0.         0.         0.         0.\n",
      "  0.         0.         0.         0.        ]\n",
      " [0.         0.         0.         0.         0.         0.\n",
      "  0.         0.         0.         0.         0.         0.\n",
      "  0.         0.         0.         0.         0.         0.\n",
      "  0.         0.         0.         0.         0.         0.\n",
      "  0.         0.         0.         0.        ]\n",
      " [0.         0.         0.         0.         0.         0.\n",
      "  0.         0.         0.         0.         0.         0.\n",
      "  0.         0.         0.         0.         0.         0.\n",
      "  0.         0.         0.         0.         0.         0.\n",
      "  0.         0.         0.         0.        ]\n",
      " [0.         0.         0.         0.         0.         0.\n",
      "  0.         0.         0.         0.         0.         0.\n",
      "  0.         0.         0.         0.         0.         0.\n",
      "  0.         0.         0.         0.         0.         0.\n",
      "  0.         0.         0.         0.        ]\n",
      " [0.         0.         0.         0.         0.         0.\n",
      "  0.         0.         0.         0.         0.         0.\n",
      "  0.         0.         0.         0.         0.         0.\n",
      "  0.         0.         0.         0.         0.         0.\n",
      "  0.         0.         0.         0.        ]\n",
      " [0.         0.         0.         0.04705882 0.38823529 0.35686275\n",
      "  0.55686275 0.60784314 0.96470588 0.71372549 0.60784314 0.60784314\n",
      "  0.60784314 0.60784314 0.51372549 0.20392157 0.         0.\n",
      "  0.         0.         0.         0.         0.         0.\n",
      "  0.         0.         0.         0.        ]\n",
      " [0.         0.         0.         0.54117647 0.99607843 0.99607843\n",
      "  0.99607843 0.99607843 0.99607843 0.99607843 0.99607843 0.99607843\n",
      "  0.99607843 0.99607843 0.99607843 0.98823529 0.82352941 0.47843137\n",
      "  0.12941176 0.         0.         0.         0.         0.\n",
      "  0.         0.         0.         0.        ]\n",
      " [0.         0.         0.         0.8627451  0.99607843 0.99607843\n",
      "  0.99607843 0.92156863 0.74117647 0.74117647 0.74117647 0.74117647\n",
      "  0.58823529 0.74117647 0.80392157 0.99607843 0.99607843 0.99607843\n",
      "  0.29411765 0.         0.         0.         0.         0.\n",
      "  0.         0.         0.         0.        ]\n",
      " [0.         0.         0.         0.1372549  0.29019608 0.1372549\n",
      "  0.1372549  0.09803922 0.         0.         0.         0.\n",
      "  0.         0.         0.05098039 0.87843137 0.99607843 0.99607843\n",
      "  0.6        0.         0.         0.         0.         0.\n",
      "  0.         0.         0.         0.        ]\n",
      " [0.         0.         0.         0.         0.         0.\n",
      "  0.         0.         0.         0.         0.         0.\n",
      "  0.         0.         0.35294118 0.99607843 0.99607843 0.96862745\n",
      "  0.20784314 0.         0.         0.         0.         0.\n",
      "  0.         0.         0.         0.        ]\n",
      " [0.         0.         0.         0.         0.         0.\n",
      "  0.         0.         0.         0.         0.         0.\n",
      "  0.02352941 0.59607843 0.96470588 0.99607843 0.99607843 0.19215686\n",
      "  0.         0.         0.         0.         0.         0.\n",
      "  0.         0.         0.         0.        ]\n",
      " [0.         0.         0.         0.         0.         0.\n",
      "  0.         0.         0.         0.         0.         0.25882353\n",
      "  0.61960784 0.99607843 0.99607843 0.97647059 0.40392157 0.03137255\n",
      "  0.         0.         0.         0.         0.         0.\n",
      "  0.         0.         0.         0.        ]\n",
      " [0.         0.         0.         0.         0.         0.\n",
      "  0.         0.         0.         0.         0.21176471 0.98431373\n",
      "  0.99607843 0.99607843 0.99607843 0.97254902 0.29019608 0.01960784\n",
      "  0.         0.         0.         0.         0.         0.\n",
      "  0.         0.         0.         0.        ]\n",
      " [0.         0.         0.         0.         0.         0.\n",
      "  0.         0.         0.         0.         0.54901961 0.99607843\n",
      "  0.99607843 0.99607843 0.99607843 0.99607843 0.99607843 0.79215686\n",
      "  0.49019608 0.17647059 0.         0.         0.         0.\n",
      "  0.         0.         0.         0.        ]\n",
      " [0.         0.         0.         0.         0.         0.\n",
      "  0.         0.         0.         0.         0.22745098 0.70980392\n",
      "  0.91764706 0.99607843 0.99607843 0.99607843 0.99607843 0.99607843\n",
      "  0.99607843 0.98823529 0.54901961 0.08627451 0.         0.\n",
      "  0.         0.         0.         0.        ]\n",
      " [0.         0.         0.         0.         0.         0.\n",
      "  0.         0.         0.         0.         0.         0.\n",
      "  0.11764706 0.19607843 0.28627451 0.60784314 0.99215686 0.99607843\n",
      "  0.99607843 0.99607843 0.99607843 0.74901961 0.00784314 0.\n",
      "  0.         0.         0.         0.        ]\n",
      " [0.         0.         0.         0.         0.         0.\n",
      "  0.         0.         0.         0.         0.         0.\n",
      "  0.         0.         0.         0.         0.35686275 0.78431373\n",
      "  0.99607843 0.99607843 0.99607843 0.99607843 0.4627451  0.\n",
      "  0.         0.         0.         0.        ]\n",
      " [0.         0.         0.         0.         0.         0.\n",
      "  0.         0.         0.         0.         0.         0.\n",
      "  0.         0.         0.         0.         0.         0.01568627\n",
      "  0.75294118 0.99607843 0.99607843 0.99607843 0.60392157 0.\n",
      "  0.         0.         0.         0.        ]\n",
      " [0.         0.         0.         0.         0.         0.\n",
      "  0.         0.         0.         0.         0.         0.\n",
      "  0.         0.         0.         0.         0.         0.\n",
      "  0.55294118 0.99607843 0.99607843 0.99607843 0.45490196 0.\n",
      "  0.         0.         0.         0.        ]\n",
      " [0.         0.         0.         0.         0.         0.\n",
      "  0.         0.         0.09803922 0.49411765 0.3372549  0.\n",
      "  0.         0.         0.         0.         0.         0.01176471\n",
      "  0.7372549  0.99607843 0.99607843 0.98039216 0.23921569 0.\n",
      "  0.         0.         0.         0.        ]\n",
      " [0.         0.         0.         0.         0.         0.\n",
      "  0.         0.09411765 0.81960784 0.99607843 0.05882353 0.\n",
      "  0.         0.         0.         0.         0.09019608 0.5372549\n",
      "  0.99607843 0.99607843 0.99607843 0.81960784 0.         0.\n",
      "  0.         0.         0.         0.        ]\n",
      " [0.         0.         0.         0.         0.         0.\n",
      "  0.         0.65882353 0.99607843 0.99607843 0.18823529 0.03529412\n",
      "  0.         0.         0.03529412 0.49803922 0.94509804 0.99607843\n",
      "  0.99607843 1.         0.94901961 0.24705882 0.         0.\n",
      "  0.         0.         0.         0.        ]\n",
      " [0.         0.         0.         0.         0.         0.\n",
      "  0.         0.39607843 0.99607843 0.99607843 0.99607843 0.80392157\n",
      "  0.74509804 0.74509804 0.80392157 0.99607843 0.99607843 0.99607843\n",
      "  0.99607843 0.94901961 0.2627451  0.         0.         0.\n",
      "  0.         0.         0.         0.        ]\n",
      " [0.         0.         0.         0.         0.         0.\n",
      "  0.         0.12941176 0.65098039 0.99607843 0.99607843 0.99607843\n",
      "  0.99607843 0.99607843 0.99607843 0.99607843 0.99607843 0.98039216\n",
      "  0.54117647 0.21568627 0.         0.         0.         0.\n",
      "  0.         0.         0.         0.        ]\n",
      " [0.         0.         0.         0.         0.         0.\n",
      "  0.         0.         0.02745098 0.34509804 0.60392157 0.45490196\n",
      "  0.76078431 0.76078431 0.60392157 0.60392157 0.34509804 0.19215686\n",
      "  0.         0.         0.         0.         0.         0.\n",
      "  0.         0.         0.         0.        ]\n",
      " [0.         0.         0.         0.         0.         0.\n",
      "  0.         0.         0.         0.         0.         0.\n",
      "  0.         0.         0.         0.         0.         0.\n",
      "  0.         0.         0.         0.         0.         0.\n",
      "  0.         0.         0.         0.        ]\n",
      " [0.         0.         0.         0.         0.         0.\n",
      "  0.         0.         0.         0.         0.         0.\n",
      "  0.         0.         0.         0.         0.         0.\n",
      "  0.         0.         0.         0.         0.         0.\n",
      "  0.         0.         0.         0.        ]\n",
      " [0.         0.         0.         0.         0.         0.\n",
      "  0.         0.         0.         0.         0.         0.\n",
      "  0.         0.         0.         0.         0.         0.\n",
      "  0.         0.         0.         0.         0.         0.\n",
      "  0.         0.         0.         0.        ]]\n"
     ]
    }
   ],
   "source": [
    "print(x_train[12])"
   ]
  },
  {
   "cell_type": "code",
   "execution_count": 13,
   "id": "288bbecc",
   "metadata": {},
   "outputs": [
    {
     "name": "stdout",
     "output_type": "stream",
     "text": [
      "training smaple dimension: (60000, 28, 28, 1)\n",
      "testing smaple dimension: (10000, 28, 28, 1)\n"
     ]
    }
   ],
   "source": [
    "img_size=28\n",
    "x_trainr=np.array(x_train).reshape(-1,img_size,img_size,1)\n",
    "x_testr=np.array(x_test).reshape(-1,img_size,img_size,1)\n",
    "print(\"training smaple dimension:\",x_trainr.shape)\n",
    "print(\"testing smaple dimension:\",x_testr.shape)"
   ]
  },
  {
   "cell_type": "code",
   "execution_count": 14,
   "id": "c5b1be08",
   "metadata": {},
   "outputs": [],
   "source": [
    "model=Sequential()\n",
    "model.add(Conv2D(64,(3,3),input_shape=x_trainr.shape[1:]))\n",
    "model.add(Activation('relu'))\n",
    "model.add(MaxPooling2D(pool_size=(2,2)))\n",
    "model.add(Conv2D(64,(3,3)))\n",
    "model.add(Activation('relu'))\n",
    "model.add(MaxPooling2D(pool_size=(2,2)))\n",
    "model.add(Conv2D(64,(3,3)))\n",
    "model.add(Activation('relu'))\n",
    "model.add(MaxPooling2D(pool_size=(2,2)))\n",
    "model.add(Flatten())\n",
    "model.add(Dense(64))\n",
    "model.add(Activation('relu'))\n",
    "model.add(Dense(32))\n",
    "model.add(Activation('relu'))\n",
    "model.add(Dense(10))\n",
    "model.add(Activation('softmax'))"
   ]
  },
  {
   "cell_type": "code",
   "execution_count": 15,
   "id": "3927754e",
   "metadata": {},
   "outputs": [
    {
     "name": "stdout",
     "output_type": "stream",
     "text": [
      "Model: \"sequential\"\n",
      "_________________________________________________________________\n",
      " Layer (type)                Output Shape              Param #   \n",
      "=================================================================\n",
      " conv2d (Conv2D)             (None, 26, 26, 64)        640       \n",
      "                                                                 \n",
      " activation (Activation)     (None, 26, 26, 64)        0         \n",
      "                                                                 \n",
      " max_pooling2d (MaxPooling2D  (None, 13, 13, 64)       0         \n",
      " )                                                               \n",
      "                                                                 \n",
      " conv2d_1 (Conv2D)           (None, 11, 11, 64)        36928     \n",
      "                                                                 \n",
      " activation_1 (Activation)   (None, 11, 11, 64)        0         \n",
      "                                                                 \n",
      " max_pooling2d_1 (MaxPooling  (None, 5, 5, 64)         0         \n",
      " 2D)                                                             \n",
      "                                                                 \n",
      " conv2d_2 (Conv2D)           (None, 3, 3, 64)          36928     \n",
      "                                                                 \n",
      " activation_2 (Activation)   (None, 3, 3, 64)          0         \n",
      "                                                                 \n",
      " max_pooling2d_2 (MaxPooling  (None, 1, 1, 64)         0         \n",
      " 2D)                                                             \n",
      "                                                                 \n",
      " flatten (Flatten)           (None, 64)                0         \n",
      "                                                                 \n",
      " dense (Dense)               (None, 64)                4160      \n",
      "                                                                 \n",
      " activation_3 (Activation)   (None, 64)                0         \n",
      "                                                                 \n",
      " dense_1 (Dense)             (None, 32)                2080      \n",
      "                                                                 \n",
      " activation_4 (Activation)   (None, 32)                0         \n",
      "                                                                 \n",
      " dense_2 (Dense)             (None, 10)                330       \n",
      "                                                                 \n",
      " activation_5 (Activation)   (None, 10)                0         \n",
      "                                                                 \n",
      "=================================================================\n",
      "Total params: 81,066\n",
      "Trainable params: 81,066\n",
      "Non-trainable params: 0\n",
      "_________________________________________________________________\n"
     ]
    }
   ],
   "source": [
    "model.summary()"
   ]
  },
  {
   "cell_type": "code",
   "execution_count": 16,
   "id": "3df1a7a4",
   "metadata": {},
   "outputs": [],
   "source": [
    "model.compile(loss='sparse_categorical_crossentropy',optimizer='adam',metrics=['accuracy'])"
   ]
  },
  {
   "cell_type": "code",
   "execution_count": 17,
   "id": "9097649f",
   "metadata": {},
   "outputs": [
    {
     "name": "stdout",
     "output_type": "stream",
     "text": [
      "Epoch 1/15\n",
      "1313/1313 [==============================] - 25s 18ms/step - loss: 0.2870 - accuracy: 0.9103 - val_loss: 0.1266 - val_accuracy: 0.9621\n",
      "Epoch 2/15\n",
      "1313/1313 [==============================] - 23s 18ms/step - loss: 0.0895 - accuracy: 0.9725 - val_loss: 0.0856 - val_accuracy: 0.9730\n",
      "Epoch 3/15\n",
      "1313/1313 [==============================] - 22s 17ms/step - loss: 0.0640 - accuracy: 0.9796 - val_loss: 0.0836 - val_accuracy: 0.9751\n",
      "Epoch 4/15\n",
      "1313/1313 [==============================] - 22s 17ms/step - loss: 0.0503 - accuracy: 0.9837 - val_loss: 0.0628 - val_accuracy: 0.9821\n",
      "Epoch 5/15\n",
      "1313/1313 [==============================] - 23s 17ms/step - loss: 0.0398 - accuracy: 0.9870 - val_loss: 0.0509 - val_accuracy: 0.9851\n",
      "Epoch 6/15\n",
      "1313/1313 [==============================] - 25s 19ms/step - loss: 0.0339 - accuracy: 0.9890 - val_loss: 0.0500 - val_accuracy: 0.9854\n",
      "Epoch 7/15\n",
      "1313/1313 [==============================] - 23s 17ms/step - loss: 0.0258 - accuracy: 0.9917 - val_loss: 0.0609 - val_accuracy: 0.9819\n",
      "Epoch 8/15\n",
      "1313/1313 [==============================] - 23s 17ms/step - loss: 0.0227 - accuracy: 0.9927 - val_loss: 0.0618 - val_accuracy: 0.9838\n",
      "Epoch 9/15\n",
      "1313/1313 [==============================] - 23s 17ms/step - loss: 0.0198 - accuracy: 0.9936 - val_loss: 0.0525 - val_accuracy: 0.9871\n",
      "Epoch 10/15\n",
      "1313/1313 [==============================] - 23s 17ms/step - loss: 0.0190 - accuracy: 0.9935 - val_loss: 0.0597 - val_accuracy: 0.9843\n",
      "Epoch 11/15\n",
      "1313/1313 [==============================] - 23s 17ms/step - loss: 0.0146 - accuracy: 0.9956 - val_loss: 0.0818 - val_accuracy: 0.9794\n",
      "Epoch 12/15\n",
      "1313/1313 [==============================] - 23s 17ms/step - loss: 0.0146 - accuracy: 0.9957 - val_loss: 0.0636 - val_accuracy: 0.9851\n",
      "Epoch 13/15\n",
      "1313/1313 [==============================] - 23s 17ms/step - loss: 0.0137 - accuracy: 0.9954 - val_loss: 0.0574 - val_accuracy: 0.9872\n",
      "Epoch 14/15\n",
      "1313/1313 [==============================] - 23s 17ms/step - loss: 0.0110 - accuracy: 0.9961 - val_loss: 0.0560 - val_accuracy: 0.9864\n",
      "Epoch 15/15\n",
      "1313/1313 [==============================] - 23s 17ms/step - loss: 0.0128 - accuracy: 0.9960 - val_loss: 0.0709 - val_accuracy: 0.9843\n"
     ]
    },
    {
     "data": {
      "text/plain": [
       "<keras.callbacks.History at 0x18b2ead2440>"
      ]
     },
     "execution_count": 17,
     "metadata": {},
     "output_type": "execute_result"
    }
   ],
   "source": [
    "model.fit(x_trainr,y_train,epochs=15,validation_split=0.3)"
   ]
  },
  {
   "cell_type": "code",
   "execution_count": 18,
   "id": "cccef906",
   "metadata": {},
   "outputs": [
    {
     "name": "stdout",
     "output_type": "stream",
     "text": [
      "313/313 [==============================] - 2s 5ms/step\n"
     ]
    }
   ],
   "source": [
    "prediction=model.predict([x_testr])"
   ]
  },
  {
   "cell_type": "code",
   "execution_count": 19,
   "id": "e789e7b9",
   "metadata": {},
   "outputs": [
    {
     "name": "stdout",
     "output_type": "stream",
     "text": [
      "9\n"
     ]
    }
   ],
   "source": [
    "print(np.argmax(prediction[12]))"
   ]
  },
  {
   "cell_type": "code",
   "execution_count": 20,
   "id": "948eec88",
   "metadata": {},
   "outputs": [
    {
     "data": {
      "image/png": "[encoded data removed]",
      "text/plain": [
       "<Figure size 640x480 with 1 Axes>"
      ]
     },
     "metadata": {},
     "output_type": "display_data"
    }
   ],
   "source": [
    "plt.imshow(x_test[12])\n",
    "plt.show()"
   ]
  },
  {
   "cell_type": "code",
   "execution_count": 21,
   "id": "f8e23804",
   "metadata": {},
   "outputs": [
    {
     "data": {
      "image/png": "[encoded data removed]",
      "text/plain": [
       "<Figure size 640x480 with 1 Axes>"
      ]
     },
     "metadata": {},
     "output_type": "display_data"
    }
   ],
   "source": [
    "img0=cv2.imread('0.png')\n",
    "plt.imshow(img0)\n",
    "plt.show()"
   ]
  },
  {
   "cell_type": "code",
   "execution_count": 22,
   "id": "25763d38",
   "metadata": {},
   "outputs": [
    {
     "data": {
      "text/plain": [
       "(582, 526, 3)"
      ]
     },
     "execution_count": 22,
     "metadata": {},
     "output_type": "execute_result"
    }
   ],
   "source": [
    "img0.shape"
   ]
  },
  {
   "cell_type": "code",
   "execution_count": 23,
   "id": "dd044ef2",
   "metadata": {},
   "outputs": [
    {
     "data": {
      "text/plain": [
       "(582, 526)"
      ]
     },
     "execution_count": 23,
     "metadata": {},
     "output_type": "execute_result"
    }
   ],
   "source": [
    "img_g0=cv2.cvtColor(img0,cv2.COLOR_BGR2GRAY)\n",
    "img_g0.shape"
   ]
  },
  {
   "cell_type": "code",
   "execution_count": 24,
   "id": "c5765375",
   "metadata": {},
   "outputs": [
    {
     "data": {
      "text/plain": [
       "(1, 28, 28, 1)"
      ]
     },
     "execution_count": 24,
     "metadata": {},
     "output_type": "execute_result"
    }
   ],
   "source": [
    "img_r0=cv2.resize(img_g0,(28,28))\n",
    "img_r0=img_r0/255\n",
    "img_r0=np.array(img_r0).reshape(1,img_size,img_size,1)\n",
    "img_r0.shape"
   ]
  },
  {
   "cell_type": "code",
   "execution_count": 25,
   "id": "d2c5bee0",
   "metadata": {},
   "outputs": [
    {
     "name": "stdout",
     "output_type": "stream",
     "text": [
      "1/1 [==============================] - 0s 86ms/step\n"
     ]
    }
   ],
   "source": [
    "prediction0=model.predict(img_r0)"
   ]
  },
  {
   "cell_type": "code",
   "execution_count": 26,
   "id": "52da40e4",
   "metadata": {},
   "outputs": [
    {
     "name": "stdout",
     "output_type": "stream",
     "text": [
      "0\n"
     ]
    }
   ],
   "source": [
    "print(np.argmax(prediction0))"
   ]
  },
  {
   "cell_type": "code",
   "execution_count": 27,
   "id": "99c48d79",
   "metadata": {},
   "outputs": [
    {
     "data": {
      "image/png": "[encoded data removed]",
      "text/plain": [
       "<Figure size 640x480 with 1 Axes>"
      ]
     },
     "metadata": {},
     "output_type": "display_data"
    }
   ],
   "source": [
    "img1=cv2.imread('1.png')\n",
    "plt.imshow(img1)\n",
    "plt.show()"
   ]
  },
  {
   "cell_type": "code",
   "execution_count": 28,
   "id": "c549ce1f",
   "metadata": {},
   "outputs": [
    {
     "data": {
      "text/plain": [
       "(602, 502, 3)"
      ]
     },
     "execution_count": 28,
     "metadata": {},
     "output_type": "execute_result"
    }
   ],
   "source": [
    "img1.shape"
   ]
  },
  {
   "cell_type": "code",
   "execution_count": 29,
   "id": "9637c774",
   "metadata": {},
   "outputs": [
    {
     "data": {
      "text/plain": [
       "(602, 502)"
      ]
     },
     "execution_count": 29,
     "metadata": {},
     "output_type": "execute_result"
    }
   ],
   "source": [
    "img_g1=cv2.cvtColor(img1,cv2.COLOR_BGR2GRAY)\n",
    "img_g1.shape"
   ]
  },
  {
   "cell_type": "code",
   "execution_count": 30,
   "id": "8ec28776",
   "metadata": {},
   "outputs": [
    {
     "data": {
      "text/plain": [
       "(1, 28, 28, 1)"
      ]
     },
     "execution_count": 30,
     "metadata": {},
     "output_type": "execute_result"
    }
   ],
   "source": [
    "img_r1=cv2.resize(img_g1,(28,28))\n",
    "img_r1=img_r1/255\n",
    "img_r1=np.array(img_r1).reshape(1,img_size,img_size,1)\n",
    "img_r1.shape"
   ]
  },
  {
   "cell_type": "code",
   "execution_count": 31,
   "id": "577d38d7",
   "metadata": {},
   "outputs": [
    {
     "name": "stdout",
     "output_type": "stream",
     "text": [
      "1/1 [==============================] - 0s 24ms/step\n"
     ]
    }
   ],
   "source": [
    "prediction1=model.predict(img_r1)"
   ]
  },
  {
   "cell_type": "code",
   "execution_count": 32,
   "id": "84f5301f",
   "metadata": {},
   "outputs": [
    {
     "name": "stdout",
     "output_type": "stream",
     "text": [
      "1\n"
     ]
    }
   ],
   "source": [
    "print(np.argmax(prediction1))"
   ]
  },
  {
   "cell_type": "code",
   "execution_count": 33,
   "id": "f9578f0f",
   "metadata": {},
   "outputs": [
    {
     "data": {
      "image/png": "[encoded data removed]",
      "text/plain": [
       "<Figure size 640x480 with 1 Axes>"
      ]
     },
     "metadata": {},
     "output_type": "display_data"
    }
   ],
   "source": [
    "img2=cv2.imread('2.png')\n",
    "plt.imshow(img2)\n",
    "plt.show()"
   ]
  },
  {
   "cell_type": "code",
   "execution_count": 34,
   "id": "c63add6f",
   "metadata": {},
   "outputs": [
    {
     "data": {
      "text/plain": [
       "(552, 430, 3)"
      ]
     },
     "execution_count": 34,
     "metadata": {},
     "output_type": "execute_result"
    }
   ],
   "source": [
    "img2.shape"
   ]
  },
  {
   "cell_type": "code",
   "execution_count": 35,
   "id": "e38a1145",
   "metadata": {},
   "outputs": [
    {
     "data": {
      "text/plain": [
       "(552, 430)"
      ]
     },
     "execution_count": 35,
     "metadata": {},
     "output_type": "execute_result"
    }
   ],
   "source": [
    "img_g2=cv2.cvtColor(img2,cv2.COLOR_BGR2GRAY)\n",
    "img_g2.shape"
   ]
  },
  {
   "cell_type": "code",
   "execution_count": 36,
   "id": "6254bd24",
   "metadata": {},
   "outputs": [
    {
     "data": {
      "text/plain": [
       "(1, 28, 28, 1)"
      ]
     },
     "execution_count": 36,
     "metadata": {},
     "output_type": "execute_result"
    }
   ],
   "source": [
    "img_r2=cv2.resize(img_g2,(28,28))\n",
    "img_r2=img_r2/255\n",
    "img_r2=np.array(img_r2).reshape(1,img_size,img_size,1)\n",
    "img_r2.shape"
   ]
  },
  {
   "cell_type": "code",
   "execution_count": 37,
   "id": "7dd44935",
   "metadata": {},
   "outputs": [
    {
     "name": "stdout",
     "output_type": "stream",
     "text": [
      "1/1 [==============================] - 0s 22ms/step\n"
     ]
    }
   ],
   "source": [
    "prediction2=model.predict(img_r2)"
   ]
  },
  {
   "cell_type": "code",
   "execution_count": 38,
   "id": "0ad1a662",
   "metadata": {},
   "outputs": [
    {
     "name": "stdout",
     "output_type": "stream",
     "text": [
      "2\n"
     ]
    }
   ],
   "source": [
    "print(np.argmax(prediction2))"
   ]
  },
  {
   "cell_type": "code",
   "execution_count": 39,
   "id": "b759320f",
   "metadata": {},
   "outputs": [
    {
     "data": {
      "image/png": "[encoded data removed]",
      "text/plain": [
       "<Figure size 640x480 with 1 Axes>"
      ]
     },
     "metadata": {},
     "output_type": "display_data"
    }
   ],
   "source": [
    "img3=cv2.imread('3.png')\n",
    "plt.imshow(img3)\n",
    "plt.show()"
   ]
  },
  {
   "cell_type": "code",
   "execution_count": 40,
   "id": "ed22072f",
   "metadata": {},
   "outputs": [
    {
     "data": {
      "text/plain": [
       "(506, 470, 3)"
      ]
     },
     "execution_count": 40,
     "metadata": {},
     "output_type": "execute_result"
    }
   ],
   "source": [
    "img3.shape"
   ]
  },
  {
   "cell_type": "code",
   "execution_count": 41,
   "id": "5bddc1c8",
   "metadata": {},
   "outputs": [
    {
     "data": {
      "text/plain": [
       "(506, 470)"
      ]
     },
     "execution_count": 41,
     "metadata": {},
     "output_type": "execute_result"
    }
   ],
   "source": [
    "img_g3=cv2.cvtColor(img3,cv2.COLOR_BGR2GRAY)\n",
    "img_g3.shape"
   ]
  },
  {
   "cell_type": "code",
   "execution_count": 42,
   "id": "bb1117af",
   "metadata": {},
   "outputs": [
    {
     "data": {
      "text/plain": [
       "(1, 28, 28, 1)"
      ]
     },
     "execution_count": 42,
     "metadata": {},
     "output_type": "execute_result"
    }
   ],
   "source": [
    "img_r3=cv2.resize(img_g3,(28,28))\n",
    "img_r3=img_r3/255\n",
    "img_r3=np.array(img_r3).reshape(1,img_size,img_size,1)\n",
    "img_r3.shape"
   ]
  },
  {
   "cell_type": "code",
   "execution_count": 43,
   "id": "2b306719",
   "metadata": {},
   "outputs": [
    {
     "name": "stdout",
     "output_type": "stream",
     "text": [
      "1/1 [==============================] - 0s 24ms/step\n"
     ]
    }
   ],
   "source": [
    "prediction3=model.predict(img_r3)"
   ]
  },
  {
   "cell_type": "code",
   "execution_count": 44,
   "id": "ddb0734e",
   "metadata": {},
   "outputs": [
    {
     "name": "stdout",
     "output_type": "stream",
     "text": [
      "3\n"
     ]
    }
   ],
   "source": [
    "print(np.argmax(prediction3))"
   ]
  },
  {
   "cell_type": "code",
   "execution_count": 45,
   "id": "213416c5",
   "metadata": {},
   "outputs": [
    {
     "data": {
      "image/png": "[encoded data removed]",
      "text/plain": [
       "<Figure size 640x480 with 1 Axes>"
      ]
     },
     "metadata": {},
     "output_type": "display_data"
    }
   ],
   "source": [
    "img4=cv2.imread('4.png')\n",
    "plt.imshow(img4)\n",
    "plt.show()"
   ]
  },
  {
   "cell_type": "code",
   "execution_count": 46,
   "id": "eac2e675",
   "metadata": {},
   "outputs": [
    {
     "data": {
      "text/plain": [
       "(578, 516, 3)"
      ]
     },
     "execution_count": 46,
     "metadata": {},
     "output_type": "execute_result"
    }
   ],
   "source": [
    "img4.shape"
   ]
  },
  {
   "cell_type": "code",
   "execution_count": 47,
   "id": "4c5e0d2d",
   "metadata": {},
   "outputs": [
    {
     "data": {
      "text/plain": [
       "(578, 516)"
      ]
     },
     "execution_count": 47,
     "metadata": {},
     "output_type": "execute_result"
    }
   ],
   "source": [
    "img_g4=cv2.cvtColor(img4,cv2.COLOR_BGR2GRAY)\n",
    "img_g4.shape"
   ]
  },
  {
   "cell_type": "code",
   "execution_count": 48,
   "id": "f45ff192",
   "metadata": {},
   "outputs": [
    {
     "data": {
      "text/plain": [
       "(1, 28, 28, 1)"
      ]
     },
     "execution_count": 48,
     "metadata": {},
     "output_type": "execute_result"
    }
   ],
   "source": [
    "img_r4=cv2.resize(img_g4,(28,28))\n",
    "img_r4=img_r4/255\n",
    "img_r4=np.array(img_r4).reshape(1,img_size,img_size,1)\n",
    "img_r4.shape"
   ]
  },
  {
   "cell_type": "code",
   "execution_count": 49,
   "id": "a0b162e4",
   "metadata": {},
   "outputs": [
    {
     "name": "stdout",
     "output_type": "stream",
     "text": [
      "1/1 [==============================] - 0s 23ms/step\n"
     ]
    }
   ],
   "source": [
    "prediction4=model.predict(img_r4)"
   ]
  },
  {
   "cell_type": "code",
   "execution_count": 50,
   "id": "6efd93c0",
   "metadata": {},
   "outputs": [
    {
     "name": "stdout",
     "output_type": "stream",
     "text": [
      "4\n"
     ]
    }
   ],
   "source": [
    "print(np.argmax(prediction4))"
   ]
  },
  {
   "cell_type": "code",
   "execution_count": 51,
   "id": "d9c8c1cd",
   "metadata": {},
   "outputs": [
    {
     "data": {
      "image/png": "[encoded data removed]",
      "text/plain": [
       "<Figure size 640x480 with 1 Axes>"
      ]
     },
     "metadata": {},
     "output_type": "display_data"
    }
   ],
   "source": [
    "img5=cv2.imread('5.png')\n",
    "plt.imshow(img5)\n",
    "plt.show()"
   ]
  },
  {
   "cell_type": "code",
   "execution_count": 52,
   "id": "6edb9c1c",
   "metadata": {},
   "outputs": [
    {
     "data": {
      "text/plain": [
       "(530, 540, 3)"
      ]
     },
     "execution_count": 52,
     "metadata": {},
     "output_type": "execute_result"
    }
   ],
   "source": [
    "img5.shape"
   ]
  },
  {
   "cell_type": "code",
   "execution_count": 53,
   "id": "ceac94af",
   "metadata": {},
   "outputs": [
    {
     "data": {
      "text/plain": [
       "(530, 540)"
      ]
     },
     "execution_count": 53,
     "metadata": {},
     "output_type": "execute_result"
    }
   ],
   "source": [
    "img_g5=cv2.cvtColor(img5,cv2.COLOR_BGR2GRAY)\n",
    "img_g5.shape"
   ]
  },
  {
   "cell_type": "code",
   "execution_count": 54,
   "id": "29894d1b",
   "metadata": {},
   "outputs": [
    {
     "data": {
      "text/plain": [
       "(1, 28, 28, 1)"
      ]
     },
     "execution_count": 54,
     "metadata": {},
     "output_type": "execute_result"
    }
   ],
   "source": [
    "img_r5=cv2.resize(img_g5,(28,28))\n",
    "img_r5=img_r5/255\n",
    "img_r5=np.array(img_r5).reshape(1,img_size,img_size,1)\n",
    "img_r5.shape"
   ]
  },
  {
   "cell_type": "code",
   "execution_count": 55,
   "id": "f4b0ab62",
   "metadata": {},
   "outputs": [
    {
     "name": "stdout",
     "output_type": "stream",
     "text": [
      "1/1 [==============================] - 0s 24ms/step\n"
     ]
    }
   ],
   "source": [
    "prediction5=model.predict(img_r5)"
   ]
  },
  {
   "cell_type": "code",
   "execution_count": 56,
   "id": "388992ed",
   "metadata": {},
   "outputs": [
    {
     "name": "stdout",
     "output_type": "stream",
     "text": [
      "5\n"
     ]
    }
   ],
   "source": [
    "print(np.argmax(prediction5))"
   ]
  },
  {
   "cell_type": "code",
   "execution_count": 57,
   "id": "a2d130ed",
   "metadata": {},
   "outputs": [
    {
     "data": {
      "image/png": "[encoded data removed]",
      "text/plain": [
       "<Figure size 640x480 with 1 Axes>"
      ]
     },
     "metadata": {},
     "output_type": "display_data"
    }
   ],
   "source": [
    "img6=cv2.imread('6.png')\n",
    "plt.imshow(img6)\n",
    "plt.show()"
   ]
  },
  {
   "cell_type": "code",
   "execution_count": 58,
   "id": "397c06c4",
   "metadata": {},
   "outputs": [
    {
     "data": {
      "text/plain": [
       "(584, 648, 3)"
      ]
     },
     "execution_count": 58,
     "metadata": {},
     "output_type": "execute_result"
    }
   ],
   "source": [
    "img6.shape"
   ]
  },
  {
   "cell_type": "code",
   "execution_count": 59,
   "id": "eab3795c",
   "metadata": {},
   "outputs": [
    {
     "data": {
      "text/plain": [
       "(584, 648)"
      ]
     },
     "execution_count": 59,
     "metadata": {},
     "output_type": "execute_result"
    }
   ],
   "source": [
    "img_g6=cv2.cvtColor(img6,cv2.COLOR_BGR2GRAY)\n",
    "img_g6.shape"
   ]
  },
  {
   "cell_type": "code",
   "execution_count": 60,
   "id": "0d0e3dae",
   "metadata": {},
   "outputs": [
    {
     "data": {
      "text/plain": [
       "(1, 28, 28, 1)"
      ]
     },
     "execution_count": 60,
     "metadata": {},
     "output_type": "execute_result"
    }
   ],
   "source": [
    "img_r6=cv2.resize(img_g6,(28,28))\n",
    "img_r6=img_r6/255\n",
    "img_r6=np.array(img_r6).reshape(1,img_size,img_size,1)\n",
    "img_r6.shape"
   ]
  },
  {
   "cell_type": "code",
   "execution_count": 61,
   "id": "54f2b368",
   "metadata": {},
   "outputs": [
    {
     "name": "stdout",
     "output_type": "stream",
     "text": [
      "1/1 [==============================] - 0s 22ms/step\n"
     ]
    }
   ],
   "source": [
    "prediction6=model.predict(img_r6)"
   ]
  },
  {
   "cell_type": "code",
   "execution_count": 62,
   "id": "6ba389ae",
   "metadata": {},
   "outputs": [
    {
     "name": "stdout",
     "output_type": "stream",
     "text": [
      "6\n"
     ]
    }
   ],
   "source": [
    "print(np.argmax(prediction6))"
   ]
  },
  {
   "cell_type": "code",
   "execution_count": 63,
   "id": "120fc39c",
   "metadata": {},
   "outputs": [
    {
     "data": {
      "image/png": "[encoded data removed]",
      "text/plain": [
       "<Figure size 640x480 with 1 Axes>"
      ]
     },
     "metadata": {},
     "output_type": "display_data"
    }
   ],
   "source": [
    "img7=cv2.imread('7.png')\n",
    "plt.imshow(img7)\n",
    "plt.show()"
   ]
  },
  {
   "cell_type": "code",
   "execution_count": 64,
   "id": "29f5b707",
   "metadata": {},
   "outputs": [
    {
     "data": {
      "text/plain": [
       "(648, 734, 3)"
      ]
     },
     "execution_count": 64,
     "metadata": {},
     "output_type": "execute_result"
    }
   ],
   "source": [
    "img7.shape"
   ]
  },
  {
   "cell_type": "code",
   "execution_count": 65,
   "id": "895c4dee",
   "metadata": {},
   "outputs": [
    {
     "data": {
      "text/plain": [
       "(648, 734)"
      ]
     },
     "execution_count": 65,
     "metadata": {},
     "output_type": "execute_result"
    }
   ],
   "source": [
    "img_g7=cv2.cvtColor(img7,cv2.COLOR_BGR2GRAY)\n",
    "img_g7.shape"
   ]
  },
  {
   "cell_type": "code",
   "execution_count": 66,
   "id": "0114bc0c",
   "metadata": {},
   "outputs": [
    {
     "data": {
      "text/plain": [
       "(1, 28, 28, 1)"
      ]
     },
     "execution_count": 66,
     "metadata": {},
     "output_type": "execute_result"
    }
   ],
   "source": [
    "img_r7=cv2.resize(img_g7,(28,28))\n",
    "img_r7=img_r7/255\n",
    "img_r7=np.array(img_r7).reshape(1,img_size,img_size,1)\n",
    "img_r7.shape"
   ]
  },
  {
   "cell_type": "code",
   "execution_count": 67,
   "id": "3fdcf871",
   "metadata": {},
   "outputs": [
    {
     "name": "stdout",
     "output_type": "stream",
     "text": [
      "1/1 [==============================] - 0s 24ms/step\n"
     ]
    }
   ],
   "source": [
    "prediction7=model.predict(img_r7)"
   ]
  },
  {
   "cell_type": "code",
   "execution_count": 68,
   "id": "7ee0750f",
   "metadata": {},
   "outputs": [
    {
     "name": "stdout",
     "output_type": "stream",
     "text": [
      "7\n"
     ]
    }
   ],
   "source": [
    "print(np.argmax(prediction7))"
   ]
  },
  {
   "cell_type": "code",
   "execution_count": 69,
   "id": "417adb63",
   "metadata": {},
   "outputs": [
    {
     "data": {
      "image/png": "[encoded data removed]",
      "text/plain": [
       "<Figure size 640x480 with 1 Axes>"
      ]
     },
     "metadata": {},
     "output_type": "display_data"
    }
   ],
   "source": [
    "img8=cv2.imread('8.png')\n",
    "plt.imshow(img8)\n",
    "plt.show()"
   ]
  },
  {
   "cell_type": "code",
   "execution_count": 70,
   "id": "dc22a98d",
   "metadata": {},
   "outputs": [
    {
     "data": {
      "text/plain": [
       "(664, 582, 3)"
      ]
     },
     "execution_count": 70,
     "metadata": {},
     "output_type": "execute_result"
    }
   ],
   "source": [
    "img8.shape"
   ]
  },
  {
   "cell_type": "code",
   "execution_count": 71,
   "id": "704b8b19",
   "metadata": {},
   "outputs": [
    {
     "data": {
      "text/plain": [
       "(664, 582)"
      ]
     },
     "execution_count": 71,
     "metadata": {},
     "output_type": "execute_result"
    }
   ],
   "source": [
    "img_g8=cv2.cvtColor(img8,cv2.COLOR_BGR2GRAY)\n",
    "img_g8.shape"
   ]
  },
  {
   "cell_type": "code",
   "execution_count": 72,
   "id": "e5e8524d",
   "metadata": {},
   "outputs": [
    {
     "data": {
      "text/plain": [
       "(1, 28, 28, 1)"
      ]
     },
     "execution_count": 72,
     "metadata": {},
     "output_type": "execute_result"
    }
   ],
   "source": [
    "img_r8=cv2.resize(img_g8,(28,28))\n",
    "img_r8=img_r8/255\n",
    "img_r8=np.array(img_r8).reshape(1,img_size,img_size,1)\n",
    "img_r8.shape"
   ]
  },
  {
   "cell_type": "code",
   "execution_count": 73,
   "id": "9c0576d0",
   "metadata": {},
   "outputs": [
    {
     "name": "stdout",
     "output_type": "stream",
     "text": [
      "1/1 [==============================] - 0s 23ms/step\n"
     ]
    }
   ],
   "source": [
    "prediction8=model.predict(img_r8)"
   ]
  },
  {
   "cell_type": "code",
   "execution_count": 74,
   "id": "6ac42c5a",
   "metadata": {},
   "outputs": [
    {
     "name": "stdout",
     "output_type": "stream",
     "text": [
      "8\n"
     ]
    }
   ],
   "source": [
    "print(np.argmax(prediction8))"
   ]
  },
  {
   "cell_type": "code",
   "execution_count": 75,
   "id": "e65aac05",
   "metadata": {},
   "outputs": [
    {
     "data": {
      "image/png": "[encoded data removed]",
      "text/plain": [
       "<Figure size 640x480 with 1 Axes>"
      ]
     },
     "metadata": {},
     "output_type": "display_data"
    }
   ],
   "source": [
    "img9=cv2.imread('9.png')\n",
    "plt.imshow(img9)\n",
    "plt.show()"
   ]
  },
  {
   "cell_type": "code",
   "execution_count": 76,
   "id": "d6c9cd0c",
   "metadata": {},
   "outputs": [
    {
     "data": {
      "text/plain": [
       "(620, 606, 3)"
      ]
     },
     "execution_count": 76,
     "metadata": {},
     "output_type": "execute_result"
    }
   ],
   "source": [
    "img9.shape"
   ]
  },
  {
   "cell_type": "code",
   "execution_count": 77,
   "id": "1079c994",
   "metadata": {},
   "outputs": [
    {
     "data": {
      "text/plain": [
       "(620, 606)"
      ]
     },
     "execution_count": 77,
     "metadata": {},
     "output_type": "execute_result"
    }
   ],
   "source": [
    "img_g9=cv2.cvtColor(img9,cv2.COLOR_BGR2GRAY)\n",
    "img_g9.shape"
   ]
  },
  {
   "cell_type": "code",
   "execution_count": 78,
   "id": "4faf232d",
   "metadata": {},
   "outputs": [
    {
     "data": {
      "text/plain": [
       "(1, 28, 28, 1)"
      ]
     },
     "execution_count": 78,
     "metadata": {},
     "output_type": "execute_result"
    }
   ],
   "source": [
    "img_r9=cv2.resize(img_g9,(28,28))\n",
    "img_r9=img_r9/255\n",
    "img_r9=np.array(img_r9).reshape(1,img_size,img_size,1)\n",
    "img_r9.shape"
   ]
  },
  {
   "cell_type": "code",
   "execution_count": 79,
   "id": "146d3007",
   "metadata": {},
   "outputs": [
    {
     "name": "stdout",
     "output_type": "stream",
     "text": [
      "1/1 [==============================] - 0s 21ms/step\n"
     ]
    }
   ],
   "source": [
    "prediction9=model.predict(img_r9)"
   ]
  },
  {
   "cell_type": "code",
   "execution_count": 80,
   "id": "01c5e154",
   "metadata": {},
   "outputs": [
    {
     "name": "stdout",
     "output_type": "stream",
     "text": [
      "9\n"
     ]
    }
   ],
   "source": [
    "print(np.argmax(prediction9))"
   ]
  },
  {
   "cell_type": "code",
   "execution_count": 81,
   "id": "1e69f8ac",
   "metadata": {},
   "outputs": [
    {
     "name": "stderr",
     "output_type": "stream",
     "text": [
      "WARNING:absl:Found untraced functions such as _jit_compiled_convolution_op, _jit_compiled_convolution_op, _jit_compiled_convolution_op, _update_step_xla while saving (showing 4 of 4). These functions will not be directly callable after loading.\n"
     ]
    },
    {
     "name": "stdout",
     "output_type": "stream",
     "text": [
      "INFO:tensorflow:Assets written to: cnn_model\\assets\n"
     ]
    },
    {
     "name": "stderr",
     "output_type": "stream",
     "text": [
      "INFO:tensorflow:Assets written to: cnn_model\\assets\n"
     ]
    }
   ],
   "source": [
    "model.save(\"cnn_model\")"
   ]
  },
  {
   "cell_type": "code",
   "execution_count": 82,
   "id": "3e60c79e",
   "metadata": {},
   "outputs": [],
   "source": [
    "saved_model_dir = \"cnn_model/\"\n",
    "converter = tf.lite.TFLiteConverter.from_saved_model(saved_model_dir)\n",
    "model_lite = converter.convert()\n",
    "with open('cnn.tflite', 'wb') as f:\n",
    "    f.write(model_lite)"
   ]
  }
 ],
 "metadata": {
  "kernelspec": {
   "display_name": "Python 3 (ipykernel)",
   "language": "python",
   "name": "python3"
  },
  "language_info": {
   "codemirror_mode": {
    "name": "ipython",
    "version": 3
   },
   "file_extension": ".py",
   "mimetype": "text/x-python",
   "name": "python",
   "nbconvert_exporter": "python",
   "pygments_lexer": "ipython3",
   "version": "3.10.9"
  }
 },
 "nbformat": 4,
 "nbformat_minor": 5
}
